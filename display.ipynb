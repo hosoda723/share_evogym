{
 "cells": [
  {
   "cell_type": "code",
   "execution_count": 1,
   "metadata": {},
   "outputs": [
    {
     "name": "stdout",
     "output_type": "stream",
     "text": [
      "Using Evolution Gym Simulator v2.2.5\n",
      "Status: Using GLEW 2.2.0\n"
     ]
    },
    {
     "data": {
      "text/plain": [
       "''"
      ]
     },
     "execution_count": 1,
     "metadata": {},
     "output_type": "execute_result"
    }
   ],
   "source": [
    "from evogym import EvoSim, EvoViewer, EvoWorld\n",
    "\n",
    "w = EvoWorld()\n",
    "s = EvoSim(w)\n",
    "v = EvoViewer(s)\n",
    "v.render()\n",
    "input(\"END\")"
   ]
  },
  {
   "cell_type": "code",
   "execution_count": 2,
   "metadata": {},
   "outputs": [
    {
     "name": "stdout",
     "output_type": "stream",
     "text": [
      "Status: Using GLEW 2.2.0\n"
     ]
    },
    {
     "data": {
      "text/plain": [
       "''"
      ]
     },
     "execution_count": 2,
     "metadata": {},
     "output_type": "execute_result"
    }
   ],
   "source": [
    "import numpy as np \n",
    "from evogym.sim import EvoSim\n",
    "from evogym.utils import Pair\n",
    "from evogym.viewer import EvoViewer\n",
    "from evogym.world import EvoWorld, WorldObject\n",
    "\n",
    "data = np.array([\n",
    "    [5, 5, 5, 5, 5, 5, 5, 5, 5, 5, 5, 5, 5, 5, 5, 5, 5, 5, 5, 5, 5, 5, 5, 5, 5, 5, 5, 5, 5, 5],\n",
    "]) \n",
    "\n",
    "o = WorldObject()\n",
    "o.load_from_array(name=\"terrain\", structure=data)\n",
    "#o.pos = Pair(0, 0)\n",
    "\n",
    "w = EvoWorld()\n",
    "w.add_object(o)\n",
    "\n",
    "s = EvoSim(w)\n",
    "v = EvoViewer(s)\n",
    "\n",
    "v.render(\"screen\")\n",
    "input(\"END\")"
   ]
  },
  {
   "cell_type": "code",
   "execution_count": null,
   "metadata": {},
   "outputs": [],
   "source": [
    "import time\n",
    "import numpy as np \n",
    "from evogym.sim import EvoSim\n",
    "from evogym.utils import Pair, get_full_connectivity, has_actuator, is_connected\n",
    "from evogym.viewer import EvoViewer\n",
    "from evogym.world import EvoWorld, WorldObject\n",
    "\n",
    "data = np.array([\n",
    "    [3],\n",
    "])\n",
    "\n",
    "assert has_actuator(data)\n",
    "assert is_connected(data)\n",
    "\n",
    "o = WorldObject()\n",
    "o.load_from_array(name=\"robot\", structure=data)\n",
    "#o.pos=Pair(0,0)\n",
    "\n",
    "w=EvoWorld()\n",
    "w.add_object(o)\n",
    "\n",
    "s=EvoSim(w)\n",
    "v=EvoViewer(s)\n",
    "\n",
    "d=s.get_dim_action_space(\"robot\")\n",
    "for i in range(100):\n",
    "    n=i%2\n",
    "    p=np.full(shape=(d,), dtype=int, fill_value=n*2)\n",
    "    s.set_action(\"robot\", p)\n",
    "    s.step()\n",
    "    v.render(\"screen\")\n",
    "    time.sleep(0.1)\n",
    "input(\"END\")"
   ]
  },
  {
   "cell_type": "code",
   "execution_count": null,
   "metadata": {},
   "outputs": [],
   "source": [
    "import time\n",
    "import numpy as np \n",
    "from evogym.sim import EvoSim\n",
    "from evogym.utils import Pair, get_full_connectivity, has_actuator, is_connected\n",
    "from evogym.viewer import EvoViewer\n",
    "from evogym.world import EvoWorld, WorldObject\n",
    "\n",
    "data = np.array([\n",
    "    [3, 2, 2, 2, 3],\n",
    "])\n",
    "\n",
    "assert has_actuator(data)\n",
    "assert is_connected(data)\n",
    "\n",
    "o = WorldObject()\n",
    "o.load_from_array(name=\"robot\", structure = data)\n",
    "o.pos = Pair(0,0)\n",
    "\n",
    "w = EvoWorld()\n",
    "w.add_object\n",
    "\n",
    "s = EvoSim(w)\n",
    "v = EvoViewer(s)\n",
    "\n",
    "d = s.get_dim_action_space(\"robot\")\n",
    "for i in range(10000):\n",
    "    t = s.get_time()\n",
    "    if i % 2:\n",
    "        p = np.array([0, 0])\n",
    "    elif s.object_pos_at_time(t, \"robot\")[0][0]>5:\n",
    "        p = np.array([2], [0])\n",
    "    else:\n",
    "        p = np.array([0], [2])\n",
    "    s.step()\n",
    "    s.set_action(\"robot\", p) \n",
    "    v.render(\"screen\")\n",
    "input(\"END\")"
   ]
  },
  {
   "cell_type": "code",
   "execution_count": null,
   "metadata": {},
   "outputs": [],
   "source": [
    "import itertools\n"
   ]
  }
 ],
 "metadata": {
  "kernelspec": {
   "display_name": "env_evogym",
   "language": "python",
   "name": "python3"
  },
  "language_info": {
   "codemirror_mode": {
    "name": "ipython",
    "version": 3
   },
   "file_extension": ".py",
   "mimetype": "text/x-python",
   "name": "python",
   "nbconvert_exporter": "python",
   "pygments_lexer": "ipython3",
   "version": "3.8.19"
  }
 },
 "nbformat": 4,
 "nbformat_minor": 2
}
