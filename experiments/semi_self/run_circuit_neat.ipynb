{
 "cells": [
  {
   "cell_type": "code",
   "execution_count": 1,
   "metadata": {},
   "outputs": [],
   "source": [
    "import sys\n",
    "import os"
   ]
  },
  {
   "cell_type": "code",
   "execution_count": null,
   "metadata": {},
   "outputs": [],
   "source": [
    "CURR_DIR = os.path.dirname(os.path.abspath(__file__))\n",
    "ROOT_DIR = os.path.dirname(os.path.dirname(CURR_DIR))\n",
    "\n",
    "LIB_DIR = os.path.join(ROOT_DIR, 'libs')\n",
    "sys.path.append(LIB_DIR)\n",
    "import neat cppn\n",
    "from parallel import initialize_experiment\n",
    "\n",
    "ENV_DIR = os.path.join(ROOT_DIR, 'envs', 'circuit')\n",
    "sys.path.append(ENV_DIR)\n",
    "from evaluator import CircuitEvaluator, load_curcuit\n",
    "\n",
    "from arguments.circuit_neat import get_args\n"
   ]
  }
 ],
 "metadata": {
  "kernelspec": {
   "display_name": "env_evogym",
   "language": "python",
   "name": "python3"
  },
  "language_info": {
   "codemirror_mode": {
    "name": "ipython",
    "version": 3
   },
   "file_extension": ".py",
   "mimetype": "text/x-python",
   "name": "python",
   "nbconvert_exporter": "python",
   "pygments_lexer": "ipython3",
   "version": "3.8.19"
  }
 },
 "nbformat": 4,
 "nbformat_minor": 2
}
