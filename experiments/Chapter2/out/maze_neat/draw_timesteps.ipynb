{
 "cells": [
  {
   "cell_type": "code",
   "execution_count": 42,
   "metadata": {},
   "outputs": [],
   "source": [
    "import os\n",
    "import sys\n",
    "\n",
    "CURR_DIR = os.path.dirname(os.path.abspath(\"__file__\"))"
   ]
  },
  {
   "cell_type": "code",
   "execution_count": 43,
   "metadata": {},
   "outputs": [
    {
     "data": {
      "text/plain": [
       "'/home/hosodashunta/OpenEndedCodebook/experiments/Chapter2/out/maze_neat'"
      ]
     },
     "execution_count": 43,
     "metadata": {},
     "output_type": "execute_result"
    }
   ],
   "source": [
    "CURR_DIR"
   ]
  },
  {
   "cell_type": "code",
   "execution_count": 44,
   "metadata": {},
   "outputs": [],
   "source": [
    "import matplotlib.pyplot as plt\n",
    "import scienceplots\n",
    "import pandas as pd\n",
    "import numpy as np"
   ]
  },
  {
   "cell_type": "code",
   "execution_count": 45,
   "metadata": {},
   "outputs": [],
   "source": [
    "def get_global_bests(local_bests: list) -> list:\n",
    "    \"\"\"グローバルベストを取得\n",
    "\n",
    "    Args:\n",
    "        local_bests (list): ローカルベストのリスト\n",
    "\n",
    "    Returns:\n",
    "        list: グローバルベストのリスト\n",
    "    \"\"\"\n",
    "    global_bests = [local_bests[0]]\n",
    "    for local_i in local_bests[1:]:\n",
    "        if local_i < global_bests[-1]:\n",
    "            global_bests.append(local_i)\n",
    "        else:\n",
    "            global_bests.append(global_bests[-1])\n",
    "    return global_bests"
   ]
  },
  {
   "cell_type": "code",
   "execution_count": 58,
   "metadata": {},
   "outputs": [],
   "source": [
    "r_dirs = [\"no_ts\", \"normalized_ts\", \"fit/ts\"]\n",
    "colors = [\"y\", \"b\", \"r\"]\n",
    "labels = [\"no_ts\", \"normalized\", \"fit/ts\"]"
   ]
  },
  {
   "cell_type": "code",
   "execution_count": 59,
   "metadata": {},
   "outputs": [
    {
     "name": "stdout",
     "output_type": "stream",
     "text": [
      "no_ts y no_ts\n",
      "normalized_ts b normalized\n",
      "fit/ts r fit/ts\n"
     ]
    }
   ],
   "source": [
    "for i in range(len(r_dirs)):\n",
    "\n",
    "    print(r_dirs[i], colors[i], labels[i])"
   ]
  },
  {
   "cell_type": "code",
   "execution_count": 61,
   "metadata": {},
   "outputs": [
    {
     "data": {
      "image/png": "[encoded data removed]",
      "text/plain": [
       "<Figure size 350x262.5 with 1 Axes>"
      ]
     },
     "metadata": {},
     "output_type": "display_data"
    }
   ],
   "source": [
    "plt.style.use(['science', 'grid', 'no-latex'])\n",
    "\n",
    "fig, ax = plt.subplots()\n",
    "\n",
    "for i in range(len(r_dirs)):\n",
    "    read_path = os.path.join(CURR_DIR, r_dirs[i])\n",
    "    \n",
    "    hist_fit_file = os.path.join(read_path, \"history_fitness.csv\")\n",
    "    hist_pop_file = os.path.join(read_path, \"history_pop.csv\")\n",
    "    df_fit = pd.read_csv(hist_fit_file)\n",
    "    df_pop = pd.read_csv(hist_pop_file)\n",
    "    \n",
    "    global_best_hist = get_global_bests(df_fit[\"timestep\"].values)\n",
    "    \n",
    "\n",
    "    ax.plot(global_best_hist, label=labels[i], color=colors[i])\n",
    "    \n",
    "\n",
    "plt.legend()\n",
    "plt.savefig(\"globalbests_timestep.png\")\n",
    "plt.show()\n"
   ]
  }
 ],
 "metadata": {
  "kernelspec": {
   "display_name": "env_evogym",
   "language": "python",
   "name": "python3"
  },
  "language_info": {
   "codemirror_mode": {
    "name": "ipython",
    "version": 3
   },
   "file_extension": ".py",
   "mimetype": "text/x-python",
   "name": "python",
   "nbconvert_exporter": "python",
   "pygments_lexer": "ipython3",
   "version": "3.8.19"
  }
 },
 "nbformat": 4,
 "nbformat_minor": 2
}
