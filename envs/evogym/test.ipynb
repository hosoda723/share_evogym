{
 "cells": [
  {
   "cell_type": "code",
   "execution_count": 1,
   "metadata": {},
   "outputs": [],
   "source": [
    "import numpy as np"
   ]
  },
  {
   "cell_type": "code",
   "execution_count": 2,
   "metadata": {},
   "outputs": [
    {
     "data": {
      "text/plain": [
       "0.6964691855978616"
      ]
     },
     "execution_count": 2,
     "metadata": {},
     "output_type": "execute_result"
    }
   ],
   "source": [
    "np.random.seed(123)\n",
    "np.random.uniform()"
   ]
  },
  {
   "cell_type": "code",
   "execution_count": 3,
   "metadata": {},
   "outputs": [
    {
     "data": {
      "text/plain": [
       "0.28613933495037946"
      ]
     },
     "execution_count": 3,
     "metadata": {},
     "output_type": "execute_result"
    }
   ],
   "source": [
    "np.random.uniform()"
   ]
  },
  {
   "cell_type": "code",
   "execution_count": 4,
   "metadata": {},
   "outputs": [],
   "source": [
    "size = [5,5]\n",
    "x, y = np.meshgrid(np.arange(size[0]), np.arange(size[1]), indexing='ij')"
   ]
  },
  {
   "cell_type": "code",
   "execution_count": 5,
   "metadata": {},
   "outputs": [
    {
     "data": {
      "text/plain": [
       "(array([[0, 0, 0, 0, 0],\n",
       "        [1, 1, 1, 1, 1],\n",
       "        [2, 2, 2, 2, 2],\n",
       "        [3, 3, 3, 3, 3],\n",
       "        [4, 4, 4, 4, 4]]),\n",
       " array([[0, 1, 2, 3, 4],\n",
       "        [0, 1, 2, 3, 4],\n",
       "        [0, 1, 2, 3, 4],\n",
       "        [0, 1, 2, 3, 4],\n",
       "        [0, 1, 2, 3, 4]]))"
      ]
     },
     "execution_count": 5,
     "metadata": {},
     "output_type": "execute_result"
    }
   ],
   "source": [
    "x,y\n"
   ]
  },
  {
   "cell_type": "code",
   "execution_count": 6,
   "metadata": {},
   "outputs": [
    {
     "data": {
      "text/plain": [
       "array([0, 0, 0, 0, 0, 1, 1, 1, 1, 1, 2, 2, 2, 2, 2, 3, 3, 3, 3, 3, 4, 4,\n",
       "       4, 4, 4])"
      ]
     },
     "execution_count": 6,
     "metadata": {},
     "output_type": "execute_result"
    }
   ],
   "source": [
    "x = x.flatten()\n",
    "x"
   ]
  },
  {
   "cell_type": "code",
   "execution_count": 7,
   "metadata": {},
   "outputs": [],
   "source": [
    "y = y.flatten()"
   ]
  },
  {
   "cell_type": "code",
   "execution_count": 8,
   "metadata": {},
   "outputs": [
    {
     "data": {
      "text/plain": [
       "array([5, 5])"
      ]
     },
     "execution_count": 8,
     "metadata": {},
     "output_type": "execute_result"
    }
   ],
   "source": [
    "np.array(size)"
   ]
  },
  {
   "cell_type": "code",
   "execution_count": 9,
   "metadata": {},
   "outputs": [
    {
     "data": {
      "text/plain": [
       "array([4, 4])"
      ]
     },
     "execution_count": 9,
     "metadata": {},
     "output_type": "execute_result"
    }
   ],
   "source": [
    "np.array(size)-1"
   ]
  },
  {
   "cell_type": "code",
   "execution_count": 10,
   "metadata": {},
   "outputs": [
    {
     "data": {
      "text/plain": [
       "array([1., 1.])"
      ]
     },
     "execution_count": 10,
     "metadata": {},
     "output_type": "execute_result"
    }
   ],
   "source": [
    "np.array([4, 4])/4"
   ]
  },
  {
   "cell_type": "code",
   "execution_count": 11,
   "metadata": {},
   "outputs": [
    {
     "data": {
      "text/plain": [
       "array([2., 2.])"
      ]
     },
     "execution_count": 11,
     "metadata": {},
     "output_type": "execute_result"
    }
   ],
   "source": [
    "center = (np.array(size)-1)/2\n",
    "center"
   ]
  },
  {
   "cell_type": "code",
   "execution_count": 12,
   "metadata": {},
   "outputs": [
    {
     "data": {
      "text/plain": [
       "array([2.82842712, 2.23606798, 2.        , 2.23606798, 2.82842712,\n",
       "       2.23606798, 1.41421356, 1.        , 1.41421356, 2.23606798,\n",
       "       2.        , 1.        , 0.        , 1.        , 2.        ,\n",
       "       2.23606798, 1.41421356, 1.        , 1.41421356, 2.23606798,\n",
       "       2.82842712, 2.23606798, 2.        , 2.23606798, 2.82842712])"
      ]
     },
     "execution_count": 12,
     "metadata": {},
     "output_type": "execute_result"
    }
   ],
   "source": [
    "d = np.sqrt(np.square(x - center[0]) + np.square(y - center[1]))\n",
    "d"
   ]
  },
  {
   "cell_type": "code",
   "execution_count": 13,
   "metadata": {},
   "outputs": [
    {
     "data": {
      "text/plain": [
       "array([-2., -2., -2., -2., -2., -1., -1., -1., -1., -1.,  0.,  0.,  0.,\n",
       "        0.,  0.,  1.,  1.,  1.,  1.,  1.,  2.,  2.,  2.,  2.,  2.])"
      ]
     },
     "execution_count": 13,
     "metadata": {},
     "output_type": "execute_result"
    }
   ],
   "source": [
    "x-center[0]"
   ]
  },
  {
   "cell_type": "code",
   "execution_count": 14,
   "metadata": {},
   "outputs": [
    {
     "data": {
      "text/plain": [
       "array([[0.        , 0.        , 0.        , 0.        , 0.        ,\n",
       "        1.        , 1.        , 1.        , 1.        , 1.        ,\n",
       "        2.        , 2.        , 2.        , 2.        , 2.        ,\n",
       "        3.        , 3.        , 3.        , 3.        , 3.        ,\n",
       "        4.        , 4.        , 4.        , 4.        , 4.        ],\n",
       "       [0.        , 1.        , 2.        , 3.        , 4.        ,\n",
       "        0.        , 1.        , 2.        , 3.        , 4.        ,\n",
       "        0.        , 1.        , 2.        , 3.        , 4.        ,\n",
       "        0.        , 1.        , 2.        , 3.        , 4.        ,\n",
       "        0.        , 1.        , 2.        , 3.        , 4.        ],\n",
       "       [2.82842712, 2.23606798, 2.        , 2.23606798, 2.82842712,\n",
       "        2.23606798, 1.41421356, 1.        , 1.41421356, 2.23606798,\n",
       "        2.        , 1.        , 0.        , 1.        , 2.        ,\n",
       "        2.23606798, 1.41421356, 1.        , 1.41421356, 2.23606798,\n",
       "        2.82842712, 2.23606798, 2.        , 2.23606798, 2.82842712]])"
      ]
     },
     "execution_count": 14,
     "metadata": {},
     "output_type": "execute_result"
    }
   ],
   "source": [
    "np.vstack([x, y, d])"
   ]
  },
  {
   "cell_type": "code",
   "execution_count": 15,
   "metadata": {},
   "outputs": [
    {
     "data": {
      "text/plain": [
       "array([[0.        , 0.        , 2.82842712],\n",
       "       [0.        , 1.        , 2.23606798],\n",
       "       [0.        , 2.        , 2.        ],\n",
       "       [0.        , 3.        , 2.23606798],\n",
       "       [0.        , 4.        , 2.82842712],\n",
       "       [1.        , 0.        , 2.23606798],\n",
       "       [1.        , 1.        , 1.41421356],\n",
       "       [1.        , 2.        , 1.        ],\n",
       "       [1.        , 3.        , 1.41421356],\n",
       "       [1.        , 4.        , 2.23606798],\n",
       "       [2.        , 0.        , 2.        ],\n",
       "       [2.        , 1.        , 1.        ],\n",
       "       [2.        , 2.        , 0.        ],\n",
       "       [2.        , 3.        , 1.        ],\n",
       "       [2.        , 4.        , 2.        ],\n",
       "       [3.        , 0.        , 2.23606798],\n",
       "       [3.        , 1.        , 1.41421356],\n",
       "       [3.        , 2.        , 1.        ],\n",
       "       [3.        , 3.        , 1.41421356],\n",
       "       [3.        , 4.        , 2.23606798],\n",
       "       [4.        , 0.        , 2.82842712],\n",
       "       [4.        , 1.        , 2.23606798],\n",
       "       [4.        , 2.        , 2.        ],\n",
       "       [4.        , 3.        , 2.23606798],\n",
       "       [4.        , 4.        , 2.82842712]])"
      ]
     },
     "execution_count": 15,
     "metadata": {},
     "output_type": "execute_result"
    }
   ],
   "source": [
    "np.vstack([x, y, d]).T"
   ]
  },
  {
   "cell_type": "code",
   "execution_count": 16,
   "metadata": {},
   "outputs": [
    {
     "data": {
      "text/plain": [
       "array([[6, 3, 2, 5, 3, 1, 8, 8, 3, 2],\n",
       "       [6, 9, 7, 3, 8, 5, 1, 6, 3, 6],\n",
       "       [6, 8, 2, 8, 9, 7, 7, 5, 1, 3],\n",
       "       [1, 7, 5, 6, 4, 5, 2, 3, 4, 1],\n",
       "       [7, 1, 2, 1, 7, 1, 2, 3, 4, 3]])"
      ]
     },
     "execution_count": 16,
     "metadata": {},
     "output_type": "execute_result"
    }
   ],
   "source": [
    "rng = np.random.default_rng()\n",
    "arr = rng.integers(1, 10, (5, 10))\n",
    "arr"
   ]
  },
  {
   "cell_type": "code",
   "execution_count": 17,
   "metadata": {},
   "outputs": [
    {
     "data": {
      "text/plain": [
       "array([4, 1, 1, 2, 2, 2, 0, 0, 3, 1])"
      ]
     },
     "execution_count": 17,
     "metadata": {},
     "output_type": "execute_result"
    }
   ],
   "source": [
    "x = np.zeros(10, dtype=int)\n",
    "np.argmax(arr, axis=0, out=x)"
   ]
  },
  {
   "cell_type": "code",
   "execution_count": 18,
   "metadata": {},
   "outputs": [
    {
     "name": "stdout",
     "output_type": "stream",
     "text": [
      "[[4 1 1 2 2]\n",
      " [2 0 0 3 1]]\n"
     ]
    }
   ],
   "source": [
    "print(np.reshape(x, [2,5]))"
   ]
  },
  {
   "cell_type": "code",
   "execution_count": 19,
   "metadata": {},
   "outputs": [],
   "source": [
    "robot=np.array([[2., 0., 0., 0., 0.],\n",
    "       [1., 0., 0., 1., 1.],\n",
    "       [4., 3., 3., 3., 4.],\n",
    "       [4., 3., 1., 3., 4.],\n",
    "       [4., 0., 0., 0., 4.]])"
   ]
  },
  {
   "cell_type": "code",
   "execution_count": 20,
   "metadata": {},
   "outputs": [],
   "source": [
    "def hashable(robot: np.ndarray) -> str:\n",
    "    \"\"\"\n",
    "    ロボットのハッシュ可能な表現を返す。\n",
    "\n",
    "    引数\n",
    "        robot (np.ndarray): ロボットのボクセル構造を指定する配列。\n",
    "    \n",
    "    戻り値\n",
    "        str: ロボットの文字列表現。\n",
    "\n",
    "    \"\"\"\n",
    "    out = \"\"\n",
    "    for i in range(robot.shape[0]):\n",
    "        for j in range(robot.shape[1]):\n",
    "            out += str(int(robot[i][j]))\n",
    "    \n",
    "    return out"
   ]
  },
  {
   "cell_type": "code",
   "execution_count": 21,
   "metadata": {},
   "outputs": [
    {
     "data": {
      "text/plain": [
       "'2000010011433344313440004'"
      ]
     },
     "execution_count": 21,
     "metadata": {},
     "output_type": "execute_result"
    }
   ],
   "source": [
    "robot_hash = hashable(robot)\n",
    "robot_hash"
   ]
  },
  {
   "cell_type": "code",
   "execution_count": 22,
   "metadata": {},
   "outputs": [],
   "source": [
    "hash = {}"
   ]
  },
  {
   "cell_type": "code",
   "execution_count": 23,
   "metadata": {},
   "outputs": [],
   "source": [
    "hash[robot_hash] = True"
   ]
  },
  {
   "cell_type": "code",
   "execution_count": 24,
   "metadata": {},
   "outputs": [
    {
     "data": {
      "text/plain": [
       "{'2000010011433344313440004': True}"
      ]
     },
     "execution_count": 24,
     "metadata": {},
     "output_type": "execute_result"
    }
   ],
   "source": [
    "hash"
   ]
  },
  {
   "cell_type": "code",
   "execution_count": 25,
   "metadata": {},
   "outputs": [
    {
     "name": "stdout",
     "output_type": "stream",
     "text": [
      "2000010011433344313440004\n"
     ]
    }
   ],
   "source": [
    "if robot_hash in hash:\n",
    "    print(robot_hash)\n",
    "else:\n",
    "    print(False)"
   ]
  },
  {
   "cell_type": "code",
   "execution_count": 26,
   "metadata": {},
   "outputs": [],
   "source": [
    "start = (3,9)"
   ]
  },
  {
   "cell_type": "code",
   "execution_count": 27,
   "metadata": {},
   "outputs": [
    {
     "data": {
      "text/plain": [
       "9"
      ]
     },
     "execution_count": 27,
     "metadata": {},
     "output_type": "execute_result"
    }
   ],
   "source": [
    "start[1]"
   ]
  },
  {
   "cell_type": "code",
   "execution_count": 28,
   "metadata": {},
   "outputs": [],
   "source": [
    "out = [[1,2,3,4,5],\n",
    "       [1,2,3,4,5],\n",
    "       [1,2,3,4,5]]"
   ]
  },
  {
   "cell_type": "code",
   "execution_count": 29,
   "metadata": {},
   "outputs": [
    {
     "data": {
      "text/plain": [
       "array([4, 4, 4])"
      ]
     },
     "execution_count": 29,
     "metadata": {},
     "output_type": "execute_result"
    }
   ],
   "source": [
    "np.argmax(out, axis=1) #インデックス番号が返る"
   ]
  },
  {
   "cell_type": "code",
   "execution_count": null,
   "metadata": {},
   "outputs": [],
   "source": []
  }
 ],
 "metadata": {
  "kernelspec": {
   "display_name": "env_evogym",
   "language": "python",
   "name": "python3"
  },
  "language_info": {
   "codemirror_mode": {
    "name": "ipython",
    "version": 3
   },
   "file_extension": ".py",
   "mimetype": "text/x-python",
   "name": "python",
   "nbconvert_exporter": "python",
   "pygments_lexer": "ipython3",
   "version": "3.8.19"
  }
 },
 "nbformat": 4,
 "nbformat_minor": 2
}
