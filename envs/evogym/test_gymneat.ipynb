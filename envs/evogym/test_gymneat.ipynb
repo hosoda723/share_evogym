{
 "cells": [
  {
   "cell_type": "code",
   "execution_count": 2,
   "metadata": {},
   "outputs": [
    {
     "data": {
      "text/plain": [
       "array([[2., 0., 0., 0., 0.],\n",
       "       [1., 0., 0., 1., 1.],\n",
       "       [4., 3., 3., 3., 4.],\n",
       "       [4., 3., 1., 3., 4.],\n",
       "       [4., 0., 0., 0., 4.]])"
      ]
     },
     "execution_count": 2,
     "metadata": {},
     "output_type": "execute_result"
    }
   ],
   "source": [
    "import numpy as np\n",
    "import sys\n",
    "import os\n",
    "\n",
    "body = np.loadtxt(f'test.txt')\n",
    "body"
   ]
  },
  {
   "cell_type": "code",
   "execution_count": 3,
   "metadata": {},
   "outputs": [
    {
     "data": {
      "text/plain": [
       "5"
      ]
     },
     "execution_count": 3,
     "metadata": {},
     "output_type": "execute_result"
    }
   ],
   "source": [
    "body.shape[1]\n",
    "# 配列の１行目の要素数"
   ]
  },
  {
   "cell_type": "code",
   "execution_count": 4,
   "metadata": {},
   "outputs": [
    {
     "data": {
      "text/plain": [
       "25"
      ]
     },
     "execution_count": 4,
     "metadata": {},
     "output_type": "execute_result"
    }
   ],
   "source": [
    "body.size"
   ]
  },
  {
   "cell_type": "code",
   "execution_count": 5,
   "metadata": {},
   "outputs": [
    {
     "ename": "TypeError",
     "evalue": "unsupported operand type(s) for %: 'int' and 'tuple'",
     "output_type": "error",
     "traceback": [
      "\u001b[0;31m---------------------------------------------------------------------------\u001b[0m",
      "\u001b[0;31mTypeError\u001b[0m                                 Traceback (most recent call last)",
      "Cell \u001b[0;32mIn[5], line 2\u001b[0m\n\u001b[1;32m      1\u001b[0m \u001b[38;5;28;01mfor\u001b[39;00m i \u001b[38;5;129;01min\u001b[39;00m \u001b[38;5;28mrange\u001b[39m(body\u001b[38;5;241m.\u001b[39msize):\n\u001b[0;32m----> 2\u001b[0m     x \u001b[38;5;241m=\u001b[39m \u001b[43mi\u001b[49m\u001b[43m \u001b[49m\u001b[38;5;241;43m%\u001b[39;49m\u001b[43m \u001b[49m\u001b[43mbody\u001b[49m\u001b[38;5;241;43m.\u001b[39;49m\u001b[43mshape\u001b[49m\n",
      "\u001b[0;31mTypeError\u001b[0m: unsupported operand type(s) for %: 'int' and 'tuple'"
     ]
    }
   ],
   "source": [
    "for i in range(body.size):\n",
    "    x = i % body.shape"
   ]
  },
  {
   "cell_type": "code",
   "execution_count": 6,
   "metadata": {},
   "outputs": [
    {
     "data": {
      "text/plain": [
       "array([[ 0,  5,  8,  8, 10, 10, 11, 11, 12, 12, 13, 13, 15, 15, 16, 17,\n",
       "        18],\n",
       "       [ 5, 10,  9, 13, 11, 15, 12, 16, 13, 17, 14, 18, 16, 20, 17, 18,\n",
       "        19]])"
      ]
     },
     "execution_count": 6,
     "metadata": {},
     "output_type": "execute_result"
    }
   ],
   "source": [
    "# utils.py 230行あたり\n",
    "out =[]\n",
    "for i in range(body.size):\n",
    "    x = i % body.shape[1] # \n",
    "    y = i // body.shape[1]\n",
    "    \n",
    "    if body[y][x] == 0:\n",
    "        continue\n",
    "    \n",
    "    nx = x + 1\n",
    "    ny = y\n",
    "    \n",
    "    if x >= 0 and y >= 0 and x < body.shape[0]-1 and y < body.shape[1]-1 and body[ny][nx] != 0:\n",
    "        out.append( [x + y * body.shape[1], nx + ny * body.shape[1]] )\n",
    "    \n",
    "    nx = x\n",
    "    ny = y + 1\n",
    "\n",
    "    if x >= 0 and y >= 0 and x < body.shape[0]-1 and y < body.shape[1]-1 and body[ny][nx] != 0:\n",
    "        out.append([x + body.shape[1] * y, nx + body.shape[1] * ny])\n",
    "    \n",
    "np.array(out).T\n",
    "    "
   ]
  },
  {
   "cell_type": "code",
   "execution_count": null,
   "metadata": {},
   "outputs": [
    {
     "data": {
      "text/plain": [
       "array([], shape=(2, 0), dtype=float64)"
      ]
     },
     "execution_count": 5,
     "metadata": {},
     "output_type": "execute_result"
    }
   ],
   "source": [
    "np.empty((0, 2)).T"
   ]
  },
  {
   "cell_type": "code",
   "execution_count": null,
   "metadata": {},
   "outputs": [],
   "source": [
    "def get_full_connectivity(robot: np.ndarray) -> np.ndarray:\n",
    "    out = []\n",
    "\n",
    "    for i in range(robot.size): # 配列bodyの要素数分の繰り返し\n",
    "        #　bodyの要素は部品の設定の記号でその要素が何行何列にあるかで一が決められているため行，列数を調べる\n",
    "        x = i % robot.shape[1] # \n",
    "        y = i // robot.shape[1]\n",
    "\n",
    "        if robot[y][x] == 0: # 部品のない部分を飛ばす\n",
    "            continue\n",
    "\n",
    "        nx = x + 1\n",
    "        ny = y\n",
    "\n",
    "        # \n",
    "        if nx < 5 and ny < 5 and nx >= 0 and ny >= 0 and robot[ny][nx] != 0:\n",
    "            # \n",
    "            out.append([x + robot.shape[1] * y, nx + robot.shape[1] * ny])\n",
    "\n",
    "        nx = x\n",
    "        ny = y + 1\n",
    "\n",
    "        if nx < 5 and ny < 5 and nx >= 0 and ny >= 0 and robot[ny][nx] != 0:\n",
    "            out.append([x + robot.shape[1] * y, nx + robot.shape[1] * ny])\n",
    "\n",
    "    if len(out) == 0:\n",
    "        return np.empty((0, 2)).T\n",
    "    return np.array(out).T"
   ]
  },
  {
   "cell_type": "code",
   "execution_count": null,
   "metadata": {},
   "outputs": [
    {
     "data": {
      "text/plain": [
       "array([[ 0,  5,  8,  8,  9, 10, 10, 11, 11, 12, 12, 13, 13, 14, 15, 15,\n",
       "        16, 17, 18, 19],\n",
       "       [ 5, 10,  9, 13, 14, 11, 15, 12, 16, 13, 17, 14, 18, 19, 16, 20,\n",
       "        17, 18, 19, 24]])"
      ]
     },
     "execution_count": 7,
     "metadata": {},
     "output_type": "execute_result"
    }
   ],
   "source": [
    "get_full_connectivity(body)"
   ]
  },
  {
   "cell_type": "code",
   "execution_count": null,
   "metadata": {},
   "outputs": [],
   "source": []
  }
 ],
 "metadata": {
  "kernelspec": {
   "display_name": "env_evogym",
   "language": "python",
   "name": "python3"
  },
  "language_info": {
   "codemirror_mode": {
    "name": "ipython",
    "version": 3
   },
   "file_extension": ".py",
   "mimetype": "text/x-python",
   "name": "python",
   "nbconvert_exporter": "python",
   "pygments_lexer": "ipython3",
   "version": "3.8.-1"
  }
 },
 "nbformat": 4,
 "nbformat_minor": 2
}
