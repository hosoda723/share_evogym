{
 "cells": [
  {
   "cell_type": "code",
   "execution_count": 17,
   "metadata": {},
   "outputs": [
    {
     "data": {
      "text/plain": [
       "array([[[0., 0.],\n",
       "        [1., 1.]],\n",
       "\n",
       "       [[2., 2.],\n",
       "        [3., 3.]],\n",
       "\n",
       "       [[4., 4.],\n",
       "        [5., 5.]],\n",
       "\n",
       "       [[6., 6.],\n",
       "        [7., 7.]],\n",
       "\n",
       "       [[8., 8.],\n",
       "        [9., 9.]]])"
      ]
     },
     "execution_count": 17,
     "metadata": {},
     "output_type": "execute_result"
    }
   ],
   "source": [
    "import numpy as np \n",
    "walls = np.ones((5, 2, 2))\n",
    "for i in range(walls.shape[0]):\n",
    "    walls[i][0] *= 2*i\n",
    "    walls[i][1] *= 2*i + 1\n",
    "walls"
   ]
  },
  {
   "cell_type": "code",
   "execution_count": 18,
   "metadata": {},
   "outputs": [
    {
     "data": {
      "text/plain": [
       "(5, 2)"
      ]
     },
     "execution_count": 18,
     "metadata": {},
     "output_type": "execute_result"
    }
   ],
   "source": [
    "A = walls[:,0,:]\n",
    "\n",
    "A.shape"
   ]
  },
  {
   "cell_type": "code",
   "execution_count": 19,
   "metadata": {},
   "outputs": [
    {
     "data": {
      "text/plain": [
       "array([[0., 0.],\n",
       "       [2., 2.],\n",
       "       [4., 4.],\n",
       "       [6., 6.],\n",
       "       [8., 8.]])"
      ]
     },
     "execution_count": 19,
     "metadata": {},
     "output_type": "execute_result"
    }
   ],
   "source": [
    "A"
   ]
  },
  {
   "cell_type": "code",
   "execution_count": 20,
   "metadata": {},
   "outputs": [
    {
     "data": {
      "text/plain": [
       "array([[ 0.,  0.],\n",
       "       [ 4.,  4.],\n",
       "       [16., 16.],\n",
       "       [36., 36.],\n",
       "       [64., 64.]])"
      ]
     },
     "execution_count": 20,
     "metadata": {},
     "output_type": "execute_result"
    }
   ],
   "source": [
    "B=A*A\n",
    "B"
   ]
  },
  {
   "cell_type": "code",
   "execution_count": 21,
   "metadata": {},
   "outputs": [
    {
     "data": {
      "text/plain": [
       "array([ 0.,  4.,  8., 12., 16.])"
      ]
     },
     "execution_count": 21,
     "metadata": {},
     "output_type": "execute_result"
    }
   ],
   "source": [
    "uTop = np.sum( A, axis=1)\n",
    "uTop"
   ]
  },
  {
   "cell_type": "code",
   "execution_count": 22,
   "metadata": {},
   "outputs": [
    {
     "data": {
      "text/plain": [
       "array([[[0., 0.],\n",
       "        [2., 2.],\n",
       "        [4., 4.],\n",
       "        [6., 6.],\n",
       "        [8., 8.]]])"
      ]
     },
     "execution_count": 22,
     "metadata": {},
     "output_type": "execute_result"
    }
   ],
   "source": [
    " A = np.expand_dims(walls[:,0,:], axis= 0)\n",
    " A"
   ]
  },
  {
   "cell_type": "code",
   "execution_count": 23,
   "metadata": {},
   "outputs": [
    {
     "data": {
      "text/plain": [
       "array([[375., 465.],\n",
       "       [105., 195.],\n",
       "       [195., 285.],\n",
       "       [285., 375.]])"
      ]
     },
     "execution_count": 23,
     "metadata": {},
     "output_type": "execute_result"
    }
   ],
   "source": [
    "radar_angles = np.array([[315.0, 405.0], [45.0, 135.0], [135.0, 225.0], [225.0, 315.0]])\n",
    "heading = 60\n",
    "radar_angles = (radar_angles + heading) \n",
    "radar_angles"
   ]
  },
  {
   "cell_type": "code",
   "execution_count": 24,
   "metadata": {},
   "outputs": [
    {
     "data": {
      "text/plain": [
       "array([90., 90., 90., 90.])"
      ]
     },
     "execution_count": 24,
     "metadata": {},
     "output_type": "execute_result"
    }
   ],
   "source": [
    "radar_range = radar_angles[:,1]-radar_angles[:,0]\n",
    "radar_range"
   ]
  },
  {
   "cell_type": "code",
   "execution_count": 25,
   "metadata": {},
   "outputs": [
    {
     "data": {
      "text/plain": [
       "4"
      ]
     },
     "execution_count": 25,
     "metadata": {},
     "output_type": "execute_result"
    }
   ],
   "source": [
    "radar_angles.shape[0]\n"
   ]
  },
  {
   "cell_type": "code",
   "execution_count": 26,
   "metadata": {},
   "outputs": [
    {
     "name": "stdout",
     "output_type": "stream",
     "text": [
      "a\n",
      "[[0 1 2 3 4]\n",
      " [5 6 7 8 9]]\n",
      "b\n",
      "[[ 0  1  2  3  4]\n",
      " [ 5  6  7  8  9]\n",
      " [10 11 12 13 14]]\n",
      "c\n",
      "[[0 1 2 3]\n",
      " [4 5 6 7]]\n",
      "d\n",
      "[0, 1, 2, 3, 4]\n"
     ]
    }
   ],
   "source": [
    "import numpy as np\n",
    "\n",
    "# サンプル配列の用意\n",
    "a = np.arange(10).reshape(2, 5)\n",
    "b = np.arange(15).reshape(3, 5)\n",
    "c = np.arange(8).reshape(2, 4)\n",
    "d = list(range(5))\n",
    "\n",
    "# 配列をprintして中身を確認\n",
    "print(\"a\")\n",
    "print(a)\n",
    "print(\"b\")\n",
    "print(b)\n",
    "print(\"c\")\n",
    "print(c)\n",
    "print(\"d\")\n",
    "print(d)\n"
   ]
  },
  {
   "cell_type": "code",
   "execution_count": 27,
   "metadata": {},
   "outputs": [
    {
     "data": {
      "text/plain": [
       "[array([ 6.12323400e-17,  7.07106781e-01,  1.00000000e+00,  7.07106781e-01,\n",
       "         6.12323400e-17, -1.00000000e+00]),\n",
       " array([-1.00000000e+00, -7.07106781e-01,  0.00000000e+00,  7.07106781e-01,\n",
       "         1.00000000e+00, -1.22464680e-16])]"
      ]
     },
     "execution_count": 27,
     "metadata": {},
     "output_type": "execute_result"
    }
   ],
   "source": [
    "range_finder_angles = np.array([-90.0, -45.0, 0.0, 45.0, 90.0, -180.0])\n",
    "range_finder_angles = range_finder_angles / 180 * np.pi\n",
    "\n",
    "r = 100.0\n",
    "finder_direction=[np.cos(range_finder_angles), np.sin(range_finder_angles)]\n",
    "finder_direction"
   ]
  },
  {
   "cell_type": "code",
   "execution_count": 28,
   "metadata": {},
   "outputs": [
    {
     "data": {
      "text/plain": [
       "array([[ 6.12323400e-17,  7.07106781e-01,  1.00000000e+00,\n",
       "         7.07106781e-01,  6.12323400e-17, -1.00000000e+00],\n",
       "       [-1.00000000e+00, -7.07106781e-01,  0.00000000e+00,\n",
       "         7.07106781e-01,  1.00000000e+00, -1.22464680e-16]])"
      ]
     },
     "execution_count": 28,
     "metadata": {},
     "output_type": "execute_result"
    }
   ],
   "source": [
    "range_finder_angles = np.array([-90.0, -45.0, 0.0, 45.0, 90.0, -180.0])\n",
    "range_finder_angles = range_finder_angles / 180 * np.pi\n",
    "\n",
    "r = 100.0\n",
    "finder_rad=np.vstack([np.cos(range_finder_angles), np.sin(range_finder_angles)])\n",
    "finder_rad"
   ]
  },
  {
   "cell_type": "code",
   "execution_count": 29,
   "metadata": {},
   "outputs": [
    {
     "data": {
      "text/plain": [
       "array([[ 6.12323400e-17, -1.00000000e+00],\n",
       "       [ 7.07106781e-01, -7.07106781e-01],\n",
       "       [ 1.00000000e+00,  0.00000000e+00],\n",
       "       [ 7.07106781e-01,  7.07106781e-01],\n",
       "       [ 6.12323400e-17,  1.00000000e+00],\n",
       "       [-1.00000000e+00, -1.22464680e-16]])"
      ]
     },
     "execution_count": 29,
     "metadata": {},
     "output_type": "execute_result"
    }
   ],
   "source": [
    "finder_rad = (finder_rad).T\n",
    "finder_rad"
   ]
  },
  {
   "cell_type": "code",
   "execution_count": 34,
   "metadata": {},
   "outputs": [],
   "source": [
    "def update_radars(exit_point, location, radar_angles):\n",
    "        \n",
    "        # ゴールとロボットの角度をアークタンジェントで求めてpiで割ったあまり\n",
    "        exit_angle = np.arctan2(exit_point[0]-location[0], exit_point[1]-location[1]) % np.pi \n",
    "        \n",
    "        # ロボットの頭の向き分レーダーの角度範囲をすべてずらし，ラジアンに\n",
    "        radar_angles = (radar_angles + heading) /180 *np.pi\n",
    "\n",
    "        # 各レーダーの幅に変換\n",
    "        radar_range = radar_angles[:,1]-radar_angles[:,0]\n",
    "        # レーダー範囲の早い方との差を出し，2piで割った余りにすることで１周以内で表す\n",
    "        radar_diff = (exit_angle-radar_angles[:,0])%(2*np.pi)\n",
    "        # radar_anglesの行数と同じ要素数の0で初期化された配列を作る\n",
    "        radar = np.zeros(radar_angles.shape[0])\n",
    "        # レーダーとの差がレーダーの範囲以内だったらそのレーダーに対応する要素を１にする\n",
    "        radar[radar_diff<radar_range] = 1\n",
    "        radar = radar\n",
    "        print(radar)"
   ]
  },
  {
   "cell_type": "code",
   "execution_count": 43,
   "metadata": {},
   "outputs": [
    {
     "name": "stdout",
     "output_type": "stream",
     "text": [
      "[0. 0. 0. 1.]\n"
     ]
    }
   ],
   "source": [
    "e = (0,0)\n",
    "l = (1, 1)\n",
    "radar_angles = np.array([[315.0, 405.0], [45.0, 135.0], [135.0, 225.0], [225.0, 315.0]])\n",
    "heading = 120\n",
    "update_radars(e, l, radar_angles)"
   ]
  },
  {
   "cell_type": "code",
   "execution_count": null,
   "metadata": {},
   "outputs": [],
   "source": []
  }
 ],
 "metadata": {
  "kernelspec": {
   "display_name": "env_evogym",
   "language": "python",
   "name": "python3"
  },
  "language_info": {
   "codemirror_mode": {
    "name": "ipython",
    "version": 3
   },
   "file_extension": ".py",
   "mimetype": "text/x-python",
   "name": "python",
   "nbconvert_exporter": "python",
   "pygments_lexer": "ipython3",
   "version": "3.8.19"
  }
 },
 "nbformat": 4,
 "nbformat_minor": 2
}
